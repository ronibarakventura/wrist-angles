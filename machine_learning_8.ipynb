{
 "cells": [
  {
   "cell_type": "markdown",
   "id": "fb3d7c9c",
   "metadata": {},
   "source": [
    "# import libraries"
   ]
  },
  {
   "cell_type": "code",
   "execution_count": 1,
   "id": "dd246f69",
   "metadata": {},
   "outputs": [],
   "source": [
    "import os\n",
    "import warnings\n",
    "import itertools\n",
    "import math\n",
    "import matplotlib.pyplot as plt\n",
    "import matplotlib.colors as mcolors\n",
    "import matplotlib as mpl\n",
    "import numpy as np\n",
    "import pandas as pd\n",
    "from scipy import signal\n",
    "import seaborn as sns\n",
    "from sklearn.model_selection import train_test_split\n",
    "from sklearn.linear_model import LinearRegression\n",
    "from sklearn.metrics import r2_score\n",
    "from sklearn.metrics import mean_squared_error, mean_absolute_error \n",
    "from sklearn import preprocessing \n",
    "from sklearn.pipeline import make_pipeline\n",
    "from sklearn.preprocessing import StandardScaler\n",
    "from statsmodels.regression.linear_model import OLS\n",
    "from statsmodels.tools import add_constant\n",
    "\n",
    "warnings.simplefilter('ignore', pd.core.common.SettingWithCopyWarning)\n"
   ]
  },
  {
   "cell_type": "markdown",
   "id": "9d54e9f9",
   "metadata": {},
   "source": [
    "# define functions"
   ]
  },
  {
   "cell_type": "code",
   "execution_count": 2,
   "id": "fe086b33",
   "metadata": {},
   "outputs": [],
   "source": [
    "def time_embed(df, lag):\n",
    "    lagged_df = df.copy()[lag:].reset_index(drop=True)\n",
    "    for l in range(1, lag+1):\n",
    "        lagged_df = pd.merge(lagged_df, df[lag-l:-l].reset_index(drop=True), left_index=True, right_index=True,suffixes=(\"\", \"_Lag:{}\".format(l)))\n",
    "    return lagged_df\n"
   ]
  },
  {
   "cell_type": "markdown",
   "id": "bd09f9f9",
   "metadata": {},
   "source": [
    "# initialize variables"
   ]
  },
  {
   "cell_type": "code",
   "execution_count": 3,
   "id": "237c3e68",
   "metadata": {},
   "outputs": [],
   "source": [
    "training_data_folder = \"Data\"\n",
    "training_user_folders = [f for f in os.listdir(training_data_folder) if os.path.isdir(os.path.join(training_data_folder, f))] # Get list of all user folders for trining\n",
    "oos_data_folder = \"Out-of-sample\"\n",
    "oos_user_folders = [f for f in os.listdir(oos_data_folder) if os.path.isdir(os.path.join(oos_data_folder, f))] # Get list of all user folders for oos\n",
    "dfs = [] # Create an empty list to store DataFrames for all user\n",
    "lag = 9 # there are 10 measurements per second\n",
    "window_size = 15\n",
    "K = 0.8 # fraction of data for training (1-K will be used for cross validation)\n"
   ]
  },
  {
   "cell_type": "markdown",
   "id": "a95ad2a6",
   "metadata": {},
   "source": [
    "# feature extraction"
   ]
  },
  {
   "cell_type": "code",
   "execution_count": 4,
   "id": "fffbfe30",
   "metadata": {
    "scrolled": true
   },
   "outputs": [
    {
     "name": "stdout",
     "output_type": "stream",
     "text": [
      "user 0\n",
      "Data/User-11\n"
     ]
    },
    {
     "name": "stderr",
     "output_type": "stream",
     "text": [
      "/Users/ronibarakventura/opt/anaconda3/lib/python3.9/site-packages/pandas/core/arraylike.py:397: RuntimeWarning: invalid value encountered in arccos\n",
      "  result = getattr(ufunc, method)(*inputs, **kwargs)\n"
     ]
    },
    {
     "name": "stdout",
     "output_type": "stream",
     "text": [
      "user 1\n",
      "Data/User-16\n",
      "user 2\n",
      "Data/User-3\n",
      "user 3\n",
      "Data/User-18\n",
      "user 4\n",
      "Data/User-5\n"
     ]
    },
    {
     "name": "stderr",
     "output_type": "stream",
     "text": [
      "/Users/ronibarakventura/opt/anaconda3/lib/python3.9/site-packages/pandas/core/arraylike.py:397: RuntimeWarning: invalid value encountered in arcsin\n",
      "  result = getattr(ufunc, method)(*inputs, **kwargs)\n"
     ]
    },
    {
     "name": "stdout",
     "output_type": "stream",
     "text": [
      "user 5\n",
      "Data/User-21\n",
      "user 6\n",
      "Data/User-2\n"
     ]
    },
    {
     "name": "stderr",
     "output_type": "stream",
     "text": [
      "/var/folders/1z/stpw536n3499tbk7_sg5zch80000gn/T/ipykernel_28163/1590764467.py:92: RuntimeWarning: invalid value encountered in double_scalars\n",
      "  df_falcon.loc[ts, 'falcon_x_dot'] = (df_falcon[\" falcon_x\"].loc[ts+2]-df_falcon[\" falcon_x\"].loc[ts-2])/(df_falcon[\"Time\"].loc[ts+2]-df_falcon[\"Time\"].loc[ts-2]).total_seconds()\n",
      "/var/folders/1z/stpw536n3499tbk7_sg5zch80000gn/T/ipykernel_28163/1590764467.py:93: RuntimeWarning: invalid value encountered in double_scalars\n",
      "  df_falcon.loc[ts, 'falcon_y_dot'] = (df_falcon[\" falcon_y\"].loc[ts+2]-df_falcon[\" falcon_y\"].loc[ts-2])/(df_falcon[\"Time\"].loc[ts+2]-df_falcon[\"Time\"].loc[ts-2]).total_seconds()\n",
      "/var/folders/1z/stpw536n3499tbk7_sg5zch80000gn/T/ipykernel_28163/1590764467.py:94: RuntimeWarning: invalid value encountered in double_scalars\n",
      "  df_falcon.loc[ts, 'falcon_z_dot'] = (df_falcon[\" falcon_z\"].loc[ts+2]-df_falcon[\" falcon_z\"].loc[ts-2])/(df_falcon[\"Time\"].loc[ts+2]-df_falcon[\"Time\"].loc[ts-2]).total_seconds()\n"
     ]
    },
    {
     "name": "stdout",
     "output_type": "stream",
     "text": [
      "user 7\n",
      "Data/User-10\n"
     ]
    },
    {
     "name": "stderr",
     "output_type": "stream",
     "text": [
      "/var/folders/1z/stpw536n3499tbk7_sg5zch80000gn/T/ipykernel_28163/1590764467.py:92: RuntimeWarning: invalid value encountered in double_scalars\n",
      "  df_falcon.loc[ts, 'falcon_x_dot'] = (df_falcon[\" falcon_x\"].loc[ts+2]-df_falcon[\" falcon_x\"].loc[ts-2])/(df_falcon[\"Time\"].loc[ts+2]-df_falcon[\"Time\"].loc[ts-2]).total_seconds()\n",
      "/var/folders/1z/stpw536n3499tbk7_sg5zch80000gn/T/ipykernel_28163/1590764467.py:93: RuntimeWarning: invalid value encountered in double_scalars\n",
      "  df_falcon.loc[ts, 'falcon_y_dot'] = (df_falcon[\" falcon_y\"].loc[ts+2]-df_falcon[\" falcon_y\"].loc[ts-2])/(df_falcon[\"Time\"].loc[ts+2]-df_falcon[\"Time\"].loc[ts-2]).total_seconds()\n",
      "/var/folders/1z/stpw536n3499tbk7_sg5zch80000gn/T/ipykernel_28163/1590764467.py:94: RuntimeWarning: invalid value encountered in double_scalars\n",
      "  df_falcon.loc[ts, 'falcon_z_dot'] = (df_falcon[\" falcon_z\"].loc[ts+2]-df_falcon[\" falcon_z\"].loc[ts-2])/(df_falcon[\"Time\"].loc[ts+2]-df_falcon[\"Time\"].loc[ts-2]).total_seconds()\n"
     ]
    },
    {
     "name": "stdout",
     "output_type": "stream",
     "text": [
      "user 8\n",
      "Data/User-15\n"
     ]
    },
    {
     "name": "stderr",
     "output_type": "stream",
     "text": [
      "/var/folders/1z/stpw536n3499tbk7_sg5zch80000gn/T/ipykernel_28163/1590764467.py:92: RuntimeWarning: invalid value encountered in double_scalars\n",
      "  df_falcon.loc[ts, 'falcon_x_dot'] = (df_falcon[\" falcon_x\"].loc[ts+2]-df_falcon[\" falcon_x\"].loc[ts-2])/(df_falcon[\"Time\"].loc[ts+2]-df_falcon[\"Time\"].loc[ts-2]).total_seconds()\n",
      "/var/folders/1z/stpw536n3499tbk7_sg5zch80000gn/T/ipykernel_28163/1590764467.py:93: RuntimeWarning: invalid value encountered in double_scalars\n",
      "  df_falcon.loc[ts, 'falcon_y_dot'] = (df_falcon[\" falcon_y\"].loc[ts+2]-df_falcon[\" falcon_y\"].loc[ts-2])/(df_falcon[\"Time\"].loc[ts+2]-df_falcon[\"Time\"].loc[ts-2]).total_seconds()\n",
      "/var/folders/1z/stpw536n3499tbk7_sg5zch80000gn/T/ipykernel_28163/1590764467.py:94: RuntimeWarning: invalid value encountered in double_scalars\n",
      "  df_falcon.loc[ts, 'falcon_z_dot'] = (df_falcon[\" falcon_z\"].loc[ts+2]-df_falcon[\" falcon_z\"].loc[ts-2])/(df_falcon[\"Time\"].loc[ts+2]-df_falcon[\"Time\"].loc[ts-2]).total_seconds()\n"
     ]
    },
    {
     "name": "stdout",
     "output_type": "stream",
     "text": [
      "user 9\n",
      "Data/User-9\n",
      "user 10\n",
      "Data/User-12\n",
      "user 11\n",
      "Data/User-24\n",
      "user 12\n",
      "Data/User-23\n",
      "user 13\n",
      "Data/User-0\n"
     ]
    },
    {
     "name": "stderr",
     "output_type": "stream",
     "text": [
      "/Users/ronibarakventura/opt/anaconda3/lib/python3.9/site-packages/pandas/core/arraylike.py:397: RuntimeWarning: invalid value encountered in arccos\n",
      "  result = getattr(ufunc, method)(*inputs, **kwargs)\n"
     ]
    },
    {
     "name": "stdout",
     "output_type": "stream",
     "text": [
      "user 14\n",
      "Data/User-1\n",
      "user 15\n",
      "Data/User-6\n",
      "user 16\n",
      "Data/User-14\n",
      "user 17\n",
      "Data/User-8\n"
     ]
    }
   ],
   "source": [
    "# Iterate over each user folder\n",
    "for user_id, user_folder in enumerate(training_user_folders, start=0):\n",
    "    user_data_folder = os.path.join(training_data_folder, user_folder)\n",
    "    print( \"user \"+str(user_id))\n",
    "    print(user_data_folder)\n",
    "\n",
    "    # Load CSV files for each user\n",
    "    df_falcon = pd.read_csv(os.path.join(user_data_folder, \"novint-falcon.csv\"))\n",
    "    df_falcon = df_falcon.rename(columns={'global time': 'Time'}) # rename time column for consistency\n",
    "    df_imu = pd.read_csv(os.path.join(user_data_folder, \"imu.csv\"))\n",
    "    df_angles = pd.read_csv(os.path.join(user_data_folder, \"wrist-angles.csv\"))\n",
    "    \n",
    "    # Convert time columns to datetime format\n",
    "    df_falcon['Time'] = pd.to_datetime(df_falcon['Time'].str.strip(), format='%H:%M:%S.%f')\n",
    "    df_imu['Time'] = pd.to_datetime(df_imu['Time'].str.strip(), format='%I:%M:%S.%f %p')\n",
    "    df_angles['Time'] = pd.to_datetime(df_angles['Time'].str.strip(), format='%I:%M:%S.%f %p')\n",
    "\n",
    "    if user_data_folder[5:len(user_data_folder)] not in ['User-1','User-2','User-6',\n",
    "                                                         'User-8','User-10','User-14',\n",
    "                                                         'User-18','User-22','User-23']:\n",
    "        df_imu.columns = ['Time', 'Roll2', 'Pitch2', 'Yaw2', \n",
    "                          'AccX2', 'AccY2', 'AccZ2', \n",
    "                          'RotX2','RotY2', 'RotZ2', \n",
    "                          'Roll1', 'Pitch1', 'Yaw1', \n",
    "                          'AccX1', 'AccY1', 'AccZ1',\n",
    "                          'RotX1', 'RotY1', 'RotZ1']\n",
    "\n",
    "    df_img = pd.read_csv(os.path.join(user_data_folder, \"IMG_2 (Instance).csv\"))\n",
    "\n",
    "    # Extract the time from the first row of df_img\n",
    "    start_time_img = df_img.iloc[0][' time (s)']\n",
    "\n",
    "    # Find the index of the exact time in df_falcon\n",
    "    exact_index_falcon = df_falcon[df_falcon[' time (s)'] == start_time_img].index[0]\n",
    "\n",
    "    # Slice df_falcon from the exact index\n",
    "    df_falcon = df_falcon.iloc[exact_index_falcon:].reset_index(drop=True)\n",
    "\n",
    "    # Calculate the time difference for df_angles and df_imu\n",
    "    time_diff_angles = abs(df_angles['Time'] - df_falcon.iloc[0]['Time'])\n",
    "    time_diff_imu = abs(df_imu['Time'] - df_falcon.iloc[0]['Time'])\n",
    "\n",
    "    # Find the index of the minimum time difference\n",
    "    nearest_index_angles = time_diff_angles.idxmin()\n",
    "    nearest_index_imu = time_diff_imu.idxmin()\n",
    "\n",
    "    # Slice df_angles and df_imu from the nearest index\n",
    "    df_angles = df_angles.iloc[nearest_index_angles:].reset_index()\n",
    "    df_imu = df_imu.iloc[nearest_index_imu:].reset_index()\n",
    "\n",
    "#     # Number of raw observsations in each dataset\n",
    "#     print(\"falcon observations = \"+str(np.shape(df_falcon)[0]))\n",
    "#     print(\"imu observations = \"+str(np.shape(df_imu)[0]))\n",
    "    \n",
    "    # Subset only columns relevant for training\n",
    "    df_falcon = df_falcon.drop([' time (s)',' rotation_x',' rotation_y'], axis=1)\n",
    "    df_imu.drop(list(df_imu.filter(regex='2')), axis=1, inplace=True) # remove anything with IMU2 that is placed on the back of the hand\n",
    "\n",
    "    # Downsample the falcon data\n",
    "    df_falcon_downsampled = pd.DataFrame(columns=df_falcon.keys())\n",
    "    for ts in np.arange(len(df_angles)):\n",
    "        min_index = abs(df_angles.iloc[ts]['Time'] - df_falcon['Time']).idxmin()\n",
    "        df_falcon_downsampled.loc[len(df_falcon_downsampled.index)] = df_falcon.iloc[min_index-2:min_index+3][[' falcon_x',' falcon_y',' falcon_z']].mean()\n",
    "    df_falcon = pd.concat([df_angles['Time'],df_falcon_downsampled.drop('Time', axis=1).reset_index(drop=True)], axis=1)\n",
    "\n",
    "    # remove drift from IMU1 yaw\n",
    "    m,b = np.polyfit(np.arange(np.shape(df_imu)[0]), df_imu[\"Yaw1\"], 1)\n",
    "    df_imu[\"Yaw1\"] = df_imu[\"Yaw1\"]-(m*np.arange(np.shape(df_imu)[0])+b)    \n",
    "\n",
    "    # apply a median filter on all raw data\n",
    "    df_angles[\"Roll\"] = signal.medfilt(df_angles[\"Roll\"],kernel_size=window_size)\n",
    "    df_angles[\"Pitch\"] = signal.medfilt(df_angles[\"Pitch\"],kernel_size=window_size)\n",
    "    df_angles[\"Yaw\"] = signal.medfilt(df_angles[\"Yaw\"],kernel_size=window_size)\n",
    "    df_falcon[\" falcon_x\"] = signal.medfilt(df_falcon[\" falcon_x\"],kernel_size=window_size)\n",
    "    df_falcon[\" falcon_y\"] = signal.medfilt(df_falcon[\" falcon_y\"],kernel_size=window_size)\n",
    "    df_falcon[\" falcon_z\"] = signal.medfilt(df_falcon[\" falcon_z\"],kernel_size=window_size)\n",
    "    df_imu[\"Yaw1\"] = signal.medfilt(df_imu[\"Yaw1\"],kernel_size=window_size)\n",
    "    df_imu[\"Pitch1\"] = signal.medfilt(df_imu[\"Pitch1\"],kernel_size=window_size)\n",
    "    df_imu[\"Roll1\"] = signal.medfilt(df_imu[\"Roll1\"],kernel_size=window_size)\n",
    "    df_imu[\"AccX1\"] = signal.medfilt(df_imu[\"AccX1\"],kernel_size=window_size)\n",
    "    df_imu[\"AccY1\"] = signal.medfilt(df_imu[\"AccY1\"],kernel_size=window_size)\n",
    "    df_imu[\"AccZ1\"] = signal.medfilt(df_imu[\"AccZ1\"],kernel_size=window_size)\n",
    "    df_imu[\"RotX1\"] = signal.medfilt(df_imu[\"RotX1\"],kernel_size=window_size)\n",
    "    df_imu[\"RotY1\"] = signal.medfilt(df_imu[\"RotY1\"],kernel_size=window_size)\n",
    "    df_imu[\"RotZ1\"] = signal.medfilt(df_imu[\"RotZ1\"],kernel_size=window_size)\n",
    "\n",
    "    # add time derivatives in falcon data\n",
    "    df_falcon[\"falcon_x_dot\"] = df_falcon[\" falcon_x\"]\n",
    "    df_falcon[\"falcon_y_dot\"] = df_falcon[\" falcon_y\"]\n",
    "    df_falcon[\"falcon_z_dot\"] = df_falcon[\" falcon_z\"]\n",
    "    for ts in np.arange(2,len(df_falcon)-2):\n",
    "        df_falcon.loc[ts, 'falcon_x_dot'] = (df_falcon[\" falcon_x\"].loc[ts+2]-df_falcon[\" falcon_x\"].loc[ts-2])/(df_falcon[\"Time\"].loc[ts+2]-df_falcon[\"Time\"].loc[ts-2]).total_seconds()\n",
    "        df_falcon.loc[ts, 'falcon_y_dot'] = (df_falcon[\" falcon_y\"].loc[ts+2]-df_falcon[\" falcon_y\"].loc[ts-2])/(df_falcon[\"Time\"].loc[ts+2]-df_falcon[\"Time\"].loc[ts-2]).total_seconds()\n",
    "        df_falcon.loc[ts, 'falcon_z_dot'] = (df_falcon[\" falcon_z\"].loc[ts+2]-df_falcon[\" falcon_z\"].loc[ts-2])/(df_falcon[\"Time\"].loc[ts+2]-df_falcon[\"Time\"].loc[ts-2]).total_seconds()\n",
    "\n",
    "    # add time integrals in IMU data\n",
    "    df_imu[\"VelX1\"] = df_imu[\"AccX1\"]\n",
    "    df_imu[\"VelY1\"] = df_imu[\"AccY1\"]\n",
    "    df_imu[\"VelZ1\"] = df_imu[\"AccZ1\"]    \n",
    "    for ts in np.arange(2,len(df_imu)-2):\n",
    "        df_imu.loc[ts,'VelX1'] = (df_imu[\"AccX1\"].loc[ts+2]-df_imu[\"AccX1\"].loc[ts-2])*(df_imu[\"Time\"].loc[ts+2]-df_imu[\"Time\"].loc[ts-2]).total_seconds()\n",
    "        df_imu.loc[ts,'VelY1'] = (df_imu[\"AccY1\"].loc[ts+2]-df_imu[\"AccY1\"].loc[ts-2])*(df_imu[\"Time\"].loc[ts+2]-df_imu[\"Time\"].loc[ts-2]).total_seconds()\n",
    "        df_imu.loc[ts,'VelZ1'] = (df_imu[\"AccZ1\"].loc[ts+2]-df_imu[\"AccZ1\"].loc[ts-2])*(df_imu[\"Time\"].loc[ts+2]-df_imu[\"Time\"].loc[ts-2]).total_seconds()\n",
    "\n",
    "    # add features from the kinematic model\n",
    "    df_imu[\"sin(Pitch1)\"] = np.sin(df_imu[\"Pitch1\"].astype(float).apply(math.radians))\n",
    "    df_imu[\"sin(Yaw1)\"] = np.sin(df_imu[\"Yaw1\"].astype(float).apply(math.radians))\n",
    "    df_imu[\"sin(Roll1)\"] = np.sin(df_imu[\"Roll1\"].astype(float).apply(math.radians))\n",
    "    df_imu[\"cos(Pitch1)\"] = np.cos(df_imu[\"Pitch1\"].astype(float).apply(math.radians))\n",
    "    df_imu[\"cos(Yaw1)\"] = np.cos(df_imu[\"Yaw1\"].astype(float).apply(math.radians))\n",
    "    df_imu[\"cos(Roll1)\"] = np.cos(df_imu[\"Roll1\"].astype(float).apply(math.radians))\n",
    "    df_imu[\"RotX1*sin(Pitch1)\"] = df_imu[\"RotX1\"]*df_imu[\"sin(Pitch1)\"]\n",
    "    df_imu[\"RotY1*sin(Pitch1)\"] = df_imu[\"RotY1\"]*df_imu[\"sin(Pitch1)\"]\n",
    "    df_imu[\"RotZ1*sin(Pitch1)\"] = df_imu[\"RotZ1\"]*df_imu[\"sin(Pitch1)\"]\n",
    "    df_imu[\"RotX1*sin(Yaw1)\"] = df_imu[\"RotX1\"]*df_imu[\"sin(Yaw1)\"]\n",
    "    df_imu[\"RotY1*sin(Yaw1)\"] = df_imu[\"RotY1\"]*df_imu[\"sin(Yaw1)\"]\n",
    "    df_imu[\"RotZ1*sin(Yaw1)\"] = df_imu[\"RotZ1\"]*df_imu[\"sin(Yaw1)\"]\n",
    "    df_imu[\"RotX1*sin(Roll1)\"] = df_imu[\"RotX1\"]*df_imu[\"sin(Roll1)\"]\n",
    "    df_imu[\"RotY1*sin(Roll1)\"] = df_imu[\"RotY1\"]*df_imu[\"sin(Roll1)\"]\n",
    "    df_imu[\"RotZ1*sin(Roll1)\"] = df_imu[\"RotZ1\"]*df_imu[\"sin(Roll1)\"]\n",
    "    df_imu[\"RotX1*cos(Pitch1)\"] = df_imu[\"RotX1\"]*df_imu[\"cos(Pitch1)\"]\n",
    "    df_imu[\"RotY1*cos(Pitch1)\"] = df_imu[\"RotY1\"]*df_imu[\"cos(Pitch1)\"]\n",
    "    df_imu[\"RotZ1*cos(Pitch1)\"] = df_imu[\"RotZ1\"]*df_imu[\"cos(Pitch1)\"]\n",
    "    df_imu[\"RotX1*cos(Yaw1)\"] = df_imu[\"RotX1\"]*df_imu[\"cos(Yaw1)\"]\n",
    "    df_imu[\"RotY1*cos(Yaw1)\"] = df_imu[\"RotY1\"]*df_imu[\"cos(Yaw1)\"]\n",
    "    df_imu[\"RotZ1*cos(Yaw1)\"] = df_imu[\"RotZ1\"]*df_imu[\"cos(Yaw1)\"]\n",
    "    df_imu[\"RotX1*cos(Roll1)\"] = df_imu[\"RotX1\"]*df_imu[\"cos(Roll1)\"]\n",
    "    df_imu[\"RotY1*cos(Roll1)\"] = df_imu[\"RotY1\"]*df_imu[\"cos(Roll1)\"]\n",
    "    df_imu[\"RotZ1*cos(Roll1)\"] = df_imu[\"RotZ1\"]*df_imu[\"cos(Roll1)\"]\n",
    "    df_imu[\"arcsin\"] = np.arcsin(((-0.1*df_imu[\"RotY1\"]*df_imu[\"sin(Pitch1)\"]+df_falcon[\"falcon_x_dot\"]-df_imu[\"VelX1\"])/0.1).apply(math.radians))\n",
    "    df_imu[\"arccos\"] = np.arccos(((0.1*df_imu[\"RotY1\"]*df_imu[\"cos(Pitch1)\"]-df_falcon[\"falcon_y_dot\"]+df_imu[\"VelY1\"])/0.1).apply(math.radians))\n",
    "\n",
    "\n",
    "    # apply a median filter on computed values\n",
    "    df_falcon[\"falcon_x_dot\"] = signal.medfilt(df_falcon[\"falcon_x_dot\"],kernel_size=window_size)\n",
    "    df_falcon[\"falcon_y_dot\"] = signal.medfilt(df_falcon[\"falcon_y_dot\"],kernel_size=window_size)\n",
    "    df_falcon[\"falcon_z_dot\"] = signal.medfilt(df_falcon[\"falcon_z_dot\"],kernel_size=window_size)\n",
    "    df_imu[\"VelX1\"] = signal.medfilt(df_imu[\"VelX1\"],kernel_size=window_size)\n",
    "    df_imu[\"VelY1\"] = signal.medfilt(df_imu[\"VelY1\"],kernel_size=window_size)\n",
    "    df_imu[\"VelZ1\"] = signal.medfilt(df_imu[\"VelZ1\"],kernel_size=window_size)\n",
    "    df_imu[\"sin(Pitch1)\"] = signal.medfilt(df_imu[\"sin(Pitch1)\"],kernel_size=window_size)\n",
    "    df_imu[\"sin(Yaw1)\"] = signal.medfilt(df_imu[\"sin(Yaw1)\"],kernel_size=window_size)\n",
    "    df_imu[\"sin(Roll1)\"] = signal.medfilt(df_imu[\"sin(Roll1)\"],kernel_size=window_size)\n",
    "    df_imu[\"cos(Pitch1)\"] = signal.medfilt(df_imu[\"cos(Pitch1)\"],kernel_size=window_size)\n",
    "    df_imu[\"cos(Yaw1)\"] = signal.medfilt(df_imu[\"cos(Yaw1)\"],kernel_size=window_size)\n",
    "    df_imu[\"cos(Roll1)\"] = signal.medfilt(df_imu[\"cos(Roll1)\"],kernel_size=window_size)\n",
    "    df_imu[\"RotX1*sin(Pitch1)\"] = signal.medfilt(df_imu[\"RotX1*sin(Pitch1)\"],kernel_size=window_size)\n",
    "    df_imu[\"RotY1*sin(Pitch1)\"] = signal.medfilt(df_imu[\"RotY1*sin(Pitch1)\"],kernel_size=window_size)\n",
    "    df_imu[\"RotZ1*sin(Pitch1)\"] = signal.medfilt(df_imu[\"RotZ1*sin(Pitch1)\"],kernel_size=window_size)\n",
    "    df_imu[\"RotX1*sin(Yaw1)\"] = signal.medfilt(df_imu[\"RotX1*sin(Yaw1)\"],kernel_size=window_size)\n",
    "    df_imu[\"RotY1*sin(Yaw1)\"] = signal.medfilt(df_imu[\"RotY1*sin(Yaw1)\"],kernel_size=window_size)\n",
    "    df_imu[\"RotZ1*sin(Yaw1)\"] = signal.medfilt(df_imu[\"RotZ1*sin(Yaw1)\"],kernel_size=window_size)\n",
    "    df_imu[\"RotX1*sin(Roll1)\"] = signal.medfilt(df_imu[\"RotX1*sin(Roll1)\"],kernel_size=window_size)\n",
    "    df_imu[\"RotY1*sin(Roll1)\"] = signal.medfilt(df_imu[\"RotY1*sin(Roll1)\"],kernel_size=window_size)\n",
    "    df_imu[\"RotZ1*sin(Roll1)\"] = signal.medfilt(df_imu[\"RotZ1*sin(Roll1)\"],kernel_size=window_size)\n",
    "    df_imu[\"RotX1*cos(Pitch1)\"] = signal.medfilt(df_imu[\"RotX1*cos(Pitch1)\"],kernel_size=window_size)\n",
    "    df_imu[\"RotY1*cos(Pitch1)\"] = signal.medfilt(df_imu[\"RotY1*cos(Pitch1)\"],kernel_size=window_size)\n",
    "    df_imu[\"RotZ1*cos(Pitch1)\"] = signal.medfilt(df_imu[\"RotZ1*cos(Pitch1)\"],kernel_size=window_size)\n",
    "    df_imu[\"RotX1*cos(Yaw1)\"] = signal.medfilt(df_imu[\"RotX1*cos(Yaw1)\"],kernel_size=window_size)\n",
    "    df_imu[\"RotY1*cos(Yaw1)\"] = signal.medfilt(df_imu[\"RotY1*cos(Yaw1)\"],kernel_size=window_size)\n",
    "    df_imu[\"RotZ1*cos(Yaw1)\"] = signal.medfilt(df_imu[\"RotZ1*cos(Yaw1)\"],kernel_size=window_size)\n",
    "    df_imu[\"RotX1*cos(Roll1)\"] = signal.medfilt(df_imu[\"RotX1*cos(Roll1)\"],kernel_size=window_size)\n",
    "    df_imu[\"RotY1*cos(Roll1)\"] = signal.medfilt(df_imu[\"RotY1*cos(Roll1)\"],kernel_size=window_size)\n",
    "    df_imu[\"RotZ1*cos(Roll1)\"] = signal.medfilt(df_imu[\"RotZ1*cos(Roll1)\"],kernel_size=window_size)\n",
    "    df_imu[\"arcsin\"] = signal.medfilt(df_imu[\"arcsin\"],kernel_size=window_size)\n",
    "    df_imu[\"arccos\"] = signal.medfilt(df_imu[\"arccos\"],kernel_size=window_size)\n",
    "\n",
    "    # change the time colmns to index to merge time series into a single dataframe\n",
    "    df_angles = df_angles.set_index(['Time'])\n",
    "    df_falcon = df_falcon.set_index(['Time'])\n",
    "    df_imu = df_imu.set_index(['Time'])\n",
    "\n",
    "    # Merge time series into a single dataframe\n",
    "    df_data = pd.merge(df_angles, df_falcon, left_index=True, right_index=True)\n",
    "    df_data = pd.merge(df_data, df_imu, left_index=True, right_index=True)\n",
    "\n",
    "    # Revert index back to numerics\n",
    "    df_data = df_data.reset_index(drop=True)\n",
    "    \n",
    "    # Lag the merged data\n",
    "    df_data = time_embed(df_data, lag)\n",
    "\n",
    "    # remove rows with NaN values\n",
    "    df_data = df_data.dropna()\n",
    "\n",
    "    # Add user ID column\n",
    "    df_data['User'] = user_id\n",
    "\n",
    "    # Append to the list of DataFrames\n",
    "    dfs.append(df_data)\n",
    "\n",
    "# Convert the dataframes into a pandas dataframe\n",
    "features = pd.concat(dfs)\n",
    "\n",
    "# remove irrelevant columns\n",
    "features.drop(list(features.filter(regex='index')), axis=1, inplace=True)\n",
    "features.drop(list(features.filter(regex='Roll_Lag:')), axis=1, inplace=True)\n",
    "features.drop(list(features.filter(regex='Pitch_Lag:')), axis=1, inplace=True)\n",
    "features.drop(list(features.filter(regex='Yaw_Lag:')), axis=1, inplace=True)\n",
    "\n",
    "# Save merged data to a new CSV file\n",
    "features.to_csv('features.csv')\n"
   ]
  },
  {
   "cell_type": "markdown",
   "id": "2d3cc544",
   "metadata": {},
   "source": [
    "# Test for autoregression and find optimal lag"
   ]
  },
  {
   "cell_type": "code",
   "execution_count": 6,
   "id": "cac5865c",
   "metadata": {
    "scrolled": true
   },
   "outputs": [
    {
     "name": "stdout",
     "output_type": "stream",
     "text": [
      "lag 0\n",
      "lag 1\n",
      "lag 2\n",
      "lag 3\n",
      "lag 4\n",
      "lag 5\n",
      "lag 6\n",
      "lag 7\n",
      "lag 8\n",
      "lag 9\n"
     ]
    },
    {
     "name": "stderr",
     "output_type": "stream",
     "text": [
      "/var/folders/1z/stpw536n3499tbk7_sg5zch80000gn/T/ipykernel_28163/3711230204.py:52: MatplotlibDeprecationWarning: savefig() got unexpected keyword argument \"tightlayout\" which is no longer supported as of 3.3 and will become an error in 3.6\n",
      "  plt.savefig('results1.pdf', tightlayout=True)\n"
     ]
    },
    {
     "data": {
      "image/png": "[encoded data removed]",
      "text/plain": [
       "<Figure size 432x288 with 1 Axes>"
      ]
     },
     "metadata": {
      "needs_background": "light"
     },
     "output_type": "display_data"
    },
    {
     "name": "stdout",
     "output_type": "stream",
     "text": [
      "optimal lag: 6\n"
     ]
    }
   ],
   "source": [
    "# define variables for cross-validations\n",
    "num_vars = np.shape(df_falcon.drop(list(df_falcon.filter(regex='index')), axis=1))[1] + np.shape(df_imu.drop(list(df_imu.filter(regex='index')), axis=1))[1]\n",
    "gof_cross_validation = pd.DataFrame(columns=[\"lag\",\"r-sq\",\"mse\"]) # empty array for calculating mean squared error\n",
    "gof_training = pd.DataFrame(columns=[\"lag\",\"r-sq\",\"mse\"]) # empty array for calculating mean squared error\n",
    "\n",
    "# define the input and output of the machine learning algorithm with no autoregressive terms\n",
    "Y = features[[\"Pitch\",\"Yaw\",\"Roll\"]]\n",
    "X = features.drop([\"Pitch\",\"Yaw\",\"Roll\"], axis=1)\n",
    "\n",
    "for l in np.arange(lag+1):\n",
    "    print(\"lag \"+str(l))\n",
    "    \n",
    "    # get only columns up to lag l\n",
    "    x = X.iloc[:,list(range(0, num_vars*(l+1)))]\n",
    "\n",
    "    # define training and validation data sets\n",
    "    X_train = pd.DataFrame(columns=x.keys())\n",
    "    X_test = pd.DataFrame(columns=x.keys())\n",
    "    Y_train = pd.DataFrame(columns=[\"Pitch\",\"Yaw\",\"Roll\"])\n",
    "    Y_test = pd.DataFrame(columns=[\"Pitch\",\"Yaw\",\"Roll\"])\n",
    "    for id in np.unique(features[\"User\"]):\n",
    "        X_train = pd.concat([X_train, x[features[\"User\"]==id][:round(K*len(features[features[\"User\"]==id]))]])\n",
    "        X_test = pd.concat([X_test, x[features[\"User\"]==id][round(K*len(features[features[\"User\"]==id])):]])\n",
    "        Y_train = pd.concat([Y_train, Y[features[\"User\"]==id][:round(K*len(features[features[\"User\"]==id]))]])\n",
    "        Y_test = pd.concat([Y_test, Y[features[\"User\"]==id][round(K*len(features[features[\"User\"]==id])):]])\n",
    "        \n",
    "    # Train linear regression model for pitch\n",
    "    model = LinearRegression()\n",
    "    model.fit(X_train,Y_train[[\"Pitch\"]])\n",
    "    predictions = model.predict(X_test) \n",
    "    \n",
    "    # Compute R-squared and MSE for cross validation\n",
    "    gof_cross_validation.loc[len(gof_cross_validation)] = [l, r2_score(Y_test[[\"Pitch\"]], predictions), mean_squared_error(Y_test[[\"Pitch\"]], predictions)]\n",
    "    \n",
    "    # Compute R-squared and MSE for training\n",
    "    predictions = model.predict(X_train)\n",
    "    gof_training.loc[len(gof_cross_validation)] = [l, r2_score(Y_train[[\"Pitch\"]], predictions), mean_squared_error(Y_train[[\"Pitch\"]], predictions)]\n",
    "\n",
    "# identify the optimal lag\n",
    "x = np.arange(lag+1)\n",
    "y1 = gof_training['r-sq']\n",
    "y2 = gof_cross_validation['r-sq']\n",
    "plt.plot(x, y1, 'bs',markersize=12,markerfacecolor='lightblue',markeredgecolor='black')\n",
    "plt.plot(x, y2, 'bs',markersize=12,markerfacecolor='cornflowerblue',markeredgecolor='black')\n",
    "plt.ylabel(r'Coefficient of determination ($R^2$)', fontsize=14, fontname='Times New Roman')\n",
    "plt.xlabel('Lag', fontsize=14, fontname='Times New Roman')\n",
    "plt.xticks(np.arange(0,10), fontsize=12, fontname='Times New Roman')\n",
    "plt.yticks([0.85, 0.9, 0.95, 1], fontsize=12, fontname='Times New Roman')\n",
    "plt.xlim([-1, lag+1])\n",
    "plt.ylim([0.85, 0.95])\n",
    "plt.legend(['Training','Validation'],bbox_to_anchor=(0.85, 1.2), ncol=2, prop={'family':'Times New Roman', 'size':14}) \n",
    "plt.savefig('results1.pdf', tightlayout=True)\n",
    "plt.show()\n",
    "\n",
    "opt_lag = int(gof_cross_validation[gof_cross_validation[\"r-sq\"]==max(gof_cross_validation[\"r-sq\"])][\"lag\"])\n",
    "print(\"optimal lag: \"+str(opt_lag))\n"
   ]
  },
  {
   "cell_type": "markdown",
   "id": "1e30614c",
   "metadata": {},
   "source": [
    "# Apply a linear regression model with optimal lag"
   ]
  },
  {
   "cell_type": "code",
   "execution_count": 12,
   "id": "9e588c3e",
   "metadata": {
    "scrolled": true
   },
   "outputs": [
    {
     "name": "stderr",
     "output_type": "stream",
     "text": [
      "/var/folders/1z/stpw536n3499tbk7_sg5zch80000gn/T/ipykernel_28163/2249744859.py:33: MatplotlibDeprecationWarning: savefig() got unexpected keyword argument \"tightlayout\" which is no longer supported as of 3.3 and will become an error in 3.6\n",
      "  plt.savefig('results2.pdf', tightlayout=True)\n"
     ]
    },
    {
     "data": {
      "image/png": "[encoded data removed]",
      "text/plain": [
       "<Figure size 432x288 with 1 Axes>"
      ]
     },
     "metadata": {
      "needs_background": "light"
     },
     "output_type": "display_data"
    },
    {
     "name": "stdout",
     "output_type": "stream",
     "text": [
      "Testing R-squared: 0.8686133114857029\n",
      "Testing MSE: 27.536100891554383\n"
     ]
    }
   ],
   "source": [
    "# define the input and output of the machine learning algorithm with no autoregressive terms\n",
    "Y = features[[\"Pitch\",\"Yaw\",\"Roll\"]]\n",
    "X = features.drop([\"Pitch\",\"Yaw\",\"Roll\"], axis=1)\n",
    "\n",
    "# get only columns up to optimal lag\n",
    "x = X.iloc[:,list(range(0, num_vars*(opt_lag+1)))]\n",
    "\n",
    "# define training and validation data sets\n",
    "X_train = pd.DataFrame(columns=x.keys())\n",
    "X_test = pd.DataFrame(columns=x.keys())\n",
    "Y_train = pd.DataFrame(columns=[\"Pitch\",\"Yaw\",\"Roll\"])\n",
    "Y_test = pd.DataFrame(columns=[\"Pitch\",\"Yaw\",\"Roll\"])\n",
    "for id in np.unique(features[\"User\"]):\n",
    "    X_train = pd.concat([X_train, x[features[\"User\"]==id][:round(K*len(features[features[\"User\"]==id]))]])\n",
    "    X_test = pd.concat([X_test, x[features[\"User\"]==id][round(K*len(features[features[\"User\"]==id])):]])\n",
    "    Y_train = pd.concat([Y_train, Y[features[\"User\"]==id][:round(K*len(features[features[\"User\"]==id]))]])\n",
    "    Y_test = pd.concat([Y_test, Y[features[\"User\"]==id][round(K*len(features[features[\"User\"]==id])):]])\n",
    "\n",
    "# Train linear regression model\n",
    "model = LinearRegression()\n",
    "model.fit(X_train, Y_train[[\"Pitch\"]])\n",
    "predictions = model.predict(X_test)\n",
    "\n",
    "# Scatter plot predictions vs. actual angles\n",
    "plt.scatter(Y_test[[\"Pitch\"]], predictions, edgecolors='k',c='steelblue',s=50)\n",
    "plt.plot([-60, 60], [-60, 60], color='black', lw=3)\n",
    "plt.ylabel('Predicted angle (deg)', fontsize=14, fontname='Times New Roman')\n",
    "plt.xlabel('Measured angle (deg)', fontsize=14, fontname='Times New Roman')\n",
    "plt.xticks([-100, -50, 0, 50, 100], fontsize=12, fontname='Times New Roman')\n",
    "plt.yticks([-100, -50, 0, 50, 100], fontsize=12, fontname='Times New Roman')\n",
    "plt.ylim([-110, 110])\n",
    "plt.xlim([-110, 110])\n",
    "plt.savefig('results2.pdf', tightlayout=True)\n",
    "plt.show()\n",
    "\n",
    "\n",
    "# Goodness-of-fit in cross-validation\n",
    "r_squared = r2_score(Y_test[[\"Pitch\"]], predictions)\n",
    "print(\"Testing R-squared:\", r_squared)\n",
    "mse = mean_squared_error(Y_test[[\"Pitch\"]], predictions)\n",
    "print(\"Testing MSE:\", mse)\n",
    "\n",
    "# # Goodness-of-fit in training\n",
    "# predictions = model.predict(X_train)\n",
    "# r_squared = r2_score(Y_train[[\"Pitch\"]], predictions) # Compute R-squared\n",
    "# print(\"Training R-squared:\", r_squared)\n",
    "# mse = mean_squared_error(Y_train[[\"Pitch\"]], predictions) # Compute MSE\n",
    "# print(\"Training MSE:\", mse)\n"
   ]
  },
  {
   "cell_type": "markdown",
   "id": "87990bcd",
   "metadata": {},
   "source": [
    "# Perform out-of-sample analysis"
   ]
  },
  {
   "cell_type": "markdown",
   "id": "68947d8a",
   "metadata": {},
   "source": [
    "#### Compute features for out-of-sampe users"
   ]
  },
  {
   "cell_type": "code",
   "execution_count": 8,
   "id": "321825fc",
   "metadata": {},
   "outputs": [
    {
     "name": "stdout",
     "output_type": "stream",
     "text": [
      "user 0\n",
      "Out-of-sample/User-7\n",
      "user 1\n",
      "Out-of-sample/User-22\n"
     ]
    }
   ],
   "source": [
    "# Iterate over each user folder\n",
    "for user_id, user_folder in enumerate(oos_user_folders, start=0):\n",
    "    user_data_folder = os.path.join(oos_data_folder, user_folder)\n",
    "    print(\"user \"+str(user_id))\n",
    "    print(user_data_folder)\n",
    "\n",
    "    # Load CSV files for each user\n",
    "    df_falcon = pd.read_csv(os.path.join(user_data_folder, \"novint-falcon.csv\"))\n",
    "    df_falcon = df_falcon.rename(columns={'global time': 'Time'}) # rename time column for consistency\n",
    "    df_imu = pd.read_csv(os.path.join(user_data_folder, \"imu.csv\"))\n",
    "    df_angles = pd.read_csv(os.path.join(user_data_folder, \"wrist-angles.csv\"))\n",
    "    \n",
    "    # Convert time columns to datetime format\n",
    "    df_falcon['Time'] = pd.to_datetime(df_falcon['Time'].str.strip(), format='%H:%M:%S.%f')\n",
    "    df_imu['Time'] = pd.to_datetime(df_imu['Time'].str.strip(), format='%I:%M:%S.%f %p')\n",
    "    df_angles['Time'] = pd.to_datetime(df_angles['Time'].str.strip(), format='%I:%M:%S.%f %p')\n",
    "\n",
    "    if user_data_folder[5:len(user_data_folder)] not in ['User-1','User-2','User-6',\n",
    "                                                         'User-8','User-10','User-14',\n",
    "                                                         'User-18','User-22','User-23']:\n",
    "        df_imu.columns = ['Time', 'Roll2', 'Pitch2', 'Yaw2', \n",
    "                          'AccX2', 'AccY2', 'AccZ2', \n",
    "                          'RotX2','RotY2', 'RotZ2', \n",
    "                          'Roll1', 'Pitch1', 'Yaw1', \n",
    "                          'AccX1', 'AccY1', 'AccZ1',\n",
    "                          'RotX1', 'RotY1', 'RotZ1']\n",
    "\n",
    "    df_img = pd.read_csv(os.path.join(user_data_folder, \"IMG_2 (Instance).csv\"))\n",
    "\n",
    "    # Extract the time from the first row of df_img\n",
    "    start_time_img = df_img.iloc[0][' time (s)']\n",
    "\n",
    "    # Find the index of the exact time in df_falcon\n",
    "    exact_index_falcon = df_falcon[df_falcon[' time (s)'] == start_time_img].index[0]\n",
    "\n",
    "    # Slice df_falcon from the exact index\n",
    "    df_falcon = df_falcon.iloc[exact_index_falcon:].reset_index(drop=True)\n",
    "\n",
    "    # Calculate the time difference for df_angles and df_imu\n",
    "    time_diff_angles = abs(df_angles['Time'] - df_falcon.iloc[0]['Time'])\n",
    "    time_diff_imu = abs(df_imu['Time'] - df_falcon.iloc[0]['Time'])\n",
    "\n",
    "    # Find the index of the minimum time difference\n",
    "    nearest_index_angles = time_diff_angles.idxmin()\n",
    "    nearest_index_imu = time_diff_imu.idxmin()\n",
    "\n",
    "    # Slice df_angles and df_imu from the nearest index\n",
    "    df_angles = df_angles.iloc[nearest_index_angles:].reset_index()\n",
    "    df_imu = df_imu.iloc[nearest_index_imu:].reset_index()\n",
    "\n",
    "    # Subset only columns relevant for training\n",
    "    df_falcon = df_falcon.drop([' time (s)',' rotation_x',' rotation_y'], axis=1)\n",
    "    df_imu.drop(list(df_imu.filter(regex='2')), axis=1, inplace=True) # remove anything with IMU2 that is placed on the back of the hand\n",
    "\n",
    "    # Downsample the falcon data\n",
    "    df_falcon_downsampled = pd.DataFrame(columns=df_falcon.keys())\n",
    "    for ts in np.arange(len(df_angles)):\n",
    "        min_index = abs(df_angles.iloc[ts]['Time'] - df_falcon['Time']).idxmin()\n",
    "        df_falcon_downsampled.loc[len(df_falcon_downsampled.index)] = df_falcon.iloc[min_index-2:min_index+3][[' falcon_x',' falcon_y',' falcon_z']].mean()\n",
    "    df_falcon = pd.concat([df_angles['Time'],df_falcon_downsampled.drop('Time', axis=1).reset_index(drop=True)], axis=1)\n",
    "\n",
    "    # remove drift from IMU1 yaw\n",
    "    m,b = np.polyfit(np.arange(np.shape(df_imu)[0]), df_imu[\"Yaw1\"], 1)\n",
    "    df_imu[\"Yaw1\"] = df_imu[\"Yaw1\"]-(m*np.arange(np.shape(df_imu)[0])+b)    \n",
    "\n",
    "    # apply a median filter on all raw data\n",
    "    df_angles[\"Roll\"] = signal.medfilt(df_angles[\"Roll\"],kernel_size=window_size)\n",
    "    df_angles[\"Pitch\"] = signal.medfilt(df_angles[\"Pitch\"],kernel_size=window_size)\n",
    "    df_angles[\"Yaw\"] = signal.medfilt(df_angles[\"Yaw\"],kernel_size=window_size)\n",
    "    df_falcon[\" falcon_x\"] = signal.medfilt(df_falcon[\" falcon_x\"],kernel_size=window_size)\n",
    "    df_falcon[\" falcon_y\"] = signal.medfilt(df_falcon[\" falcon_y\"],kernel_size=window_size)\n",
    "    df_falcon[\" falcon_z\"] = signal.medfilt(df_falcon[\" falcon_z\"],kernel_size=window_size)\n",
    "    df_imu[\"Yaw1\"] = signal.medfilt(df_imu[\"Yaw1\"],kernel_size=window_size)\n",
    "    df_imu[\"Pitch1\"] = signal.medfilt(df_imu[\"Pitch1\"],kernel_size=window_size)\n",
    "    df_imu[\"Roll1\"] = signal.medfilt(df_imu[\"Roll1\"],kernel_size=window_size)\n",
    "    df_imu[\"AccX1\"] = signal.medfilt(df_imu[\"AccX1\"],kernel_size=window_size)\n",
    "    df_imu[\"AccY1\"] = signal.medfilt(df_imu[\"AccY1\"],kernel_size=window_size)\n",
    "    df_imu[\"AccZ1\"] = signal.medfilt(df_imu[\"AccZ1\"],kernel_size=window_size)\n",
    "    df_imu[\"RotX1\"] = signal.medfilt(df_imu[\"RotX1\"],kernel_size=window_size)\n",
    "    df_imu[\"RotY1\"] = signal.medfilt(df_imu[\"RotY1\"],kernel_size=window_size)\n",
    "    df_imu[\"RotZ1\"] = signal.medfilt(df_imu[\"RotZ1\"],kernel_size=window_size)\n",
    "\n",
    "    # add time derivatives in falcon data\n",
    "    df_falcon[\"falcon_x_dot\"] = df_falcon[\" falcon_x\"]\n",
    "    df_falcon[\"falcon_y_dot\"] = df_falcon[\" falcon_y\"]\n",
    "    df_falcon[\"falcon_z_dot\"] = df_falcon[\" falcon_z\"]\n",
    "    for ts in np.arange(2,len(df_falcon)-2):\n",
    "        df_falcon.loc[ts, 'falcon_x_dot'] = (df_falcon[\" falcon_x\"].loc[ts+2]-df_falcon[\" falcon_x\"].loc[ts-2])/(df_falcon[\"Time\"].loc[ts+2]-df_falcon[\"Time\"].loc[ts-2]).total_seconds()\n",
    "        df_falcon.loc[ts, 'falcon_y_dot'] = (df_falcon[\" falcon_y\"].loc[ts+2]-df_falcon[\" falcon_y\"].loc[ts-2])/(df_falcon[\"Time\"].loc[ts+2]-df_falcon[\"Time\"].loc[ts-2]).total_seconds()\n",
    "        df_falcon.loc[ts, 'falcon_z_dot'] = (df_falcon[\" falcon_z\"].loc[ts+2]-df_falcon[\" falcon_z\"].loc[ts-2])/(df_falcon[\"Time\"].loc[ts+2]-df_falcon[\"Time\"].loc[ts-2]).total_seconds()\n",
    "\n",
    "    # add time integrals in IMU data\n",
    "    df_imu[\"VelX1\"] = df_imu[\"AccX1\"]\n",
    "    df_imu[\"VelY1\"] = df_imu[\"AccY1\"]\n",
    "    df_imu[\"VelZ1\"] = df_imu[\"AccZ1\"]    \n",
    "    for ts in np.arange(2,len(df_imu)-2):\n",
    "        df_imu.loc[ts,'VelX1'] = (df_imu[\"AccX1\"].loc[ts+2]-df_imu[\"AccX1\"].loc[ts-2])*(df_imu[\"Time\"].loc[ts+2]-df_imu[\"Time\"].loc[ts-2]).total_seconds()\n",
    "        df_imu.loc[ts,'VelY1'] = (df_imu[\"AccY1\"].loc[ts+2]-df_imu[\"AccY1\"].loc[ts-2])*(df_imu[\"Time\"].loc[ts+2]-df_imu[\"Time\"].loc[ts-2]).total_seconds()\n",
    "        df_imu.loc[ts,'VelZ1'] = (df_imu[\"AccZ1\"].loc[ts+2]-df_imu[\"AccZ1\"].loc[ts-2])*(df_imu[\"Time\"].loc[ts+2]-df_imu[\"Time\"].loc[ts-2]).total_seconds()\n",
    "\n",
    "    # add features from the kinematic model\n",
    "    df_imu[\"sin(Pitch1)\"] = np.sin(df_imu[\"Pitch1\"].astype(float).apply(math.radians))\n",
    "    df_imu[\"sin(Yaw1)\"] = np.sin(df_imu[\"Yaw1\"].astype(float).apply(math.radians))\n",
    "    df_imu[\"sin(Roll1)\"] = np.sin(df_imu[\"Roll1\"].astype(float).apply(math.radians))\n",
    "    df_imu[\"cos(Pitch1)\"] = np.cos(df_imu[\"Pitch1\"].astype(float).apply(math.radians))\n",
    "    df_imu[\"cos(Yaw1)\"] = np.cos(df_imu[\"Yaw1\"].astype(float).apply(math.radians))\n",
    "    df_imu[\"cos(Roll1)\"] = np.cos(df_imu[\"Roll1\"].astype(float).apply(math.radians))\n",
    "    df_imu[\"RotX1*sin(Pitch1)\"] = df_imu[\"RotX1\"]*df_imu[\"sin(Pitch1)\"]\n",
    "    df_imu[\"RotY1*sin(Pitch1)\"] = df_imu[\"RotY1\"]*df_imu[\"sin(Pitch1)\"]\n",
    "    df_imu[\"RotZ1*sin(Pitch1)\"] = df_imu[\"RotZ1\"]*df_imu[\"sin(Pitch1)\"]\n",
    "    df_imu[\"RotX1*sin(Yaw1)\"] = df_imu[\"RotX1\"]*df_imu[\"sin(Yaw1)\"]\n",
    "    df_imu[\"RotY1*sin(Yaw1)\"] = df_imu[\"RotY1\"]*df_imu[\"sin(Yaw1)\"]\n",
    "    df_imu[\"RotZ1*sin(Yaw1)\"] = df_imu[\"RotZ1\"]*df_imu[\"sin(Yaw1)\"]\n",
    "    df_imu[\"RotX1*sin(Roll1)\"] = df_imu[\"RotX1\"]*df_imu[\"sin(Roll1)\"]\n",
    "    df_imu[\"RotY1*sin(Roll1)\"] = df_imu[\"RotY1\"]*df_imu[\"sin(Roll1)\"]\n",
    "    df_imu[\"RotZ1*sin(Roll1)\"] = df_imu[\"RotZ1\"]*df_imu[\"sin(Roll1)\"]\n",
    "    df_imu[\"RotX1*cos(Pitch1)\"] = df_imu[\"RotX1\"]*df_imu[\"cos(Pitch1)\"]\n",
    "    df_imu[\"RotY1*cos(Pitch1)\"] = df_imu[\"RotY1\"]*df_imu[\"cos(Pitch1)\"]\n",
    "    df_imu[\"RotZ1*cos(Pitch1)\"] = df_imu[\"RotZ1\"]*df_imu[\"cos(Pitch1)\"]\n",
    "    df_imu[\"RotX1*cos(Yaw1)\"] = df_imu[\"RotX1\"]*df_imu[\"cos(Yaw1)\"]\n",
    "    df_imu[\"RotY1*cos(Yaw1)\"] = df_imu[\"RotY1\"]*df_imu[\"cos(Yaw1)\"]\n",
    "    df_imu[\"RotZ1*cos(Yaw1)\"] = df_imu[\"RotZ1\"]*df_imu[\"cos(Yaw1)\"]\n",
    "    df_imu[\"RotX1*cos(Roll1)\"] = df_imu[\"RotX1\"]*df_imu[\"cos(Roll1)\"]\n",
    "    df_imu[\"RotY1*cos(Roll1)\"] = df_imu[\"RotY1\"]*df_imu[\"cos(Roll1)\"]\n",
    "    df_imu[\"RotZ1*cos(Roll1)\"] = df_imu[\"RotZ1\"]*df_imu[\"cos(Roll1)\"]\n",
    "    df_imu[\"arcsin\"] = np.arcsin(((-0.1*df_imu[\"RotY1\"]*df_imu[\"sin(Pitch1)\"]+df_falcon[\"falcon_x_dot\"]-df_imu[\"VelX1\"])/0.1).apply(math.radians))\n",
    "    df_imu[\"arccos\"] = np.arccos(((0.1*df_imu[\"RotY1\"]*df_imu[\"cos(Pitch1)\"]-df_falcon[\"falcon_y_dot\"]+df_imu[\"VelY1\"])/0.1).apply(math.radians))\n",
    "\n",
    "\n",
    "    # apply a median filter on computed values\n",
    "    df_falcon[\"falcon_x_dot\"] = signal.medfilt(df_falcon[\"falcon_x_dot\"],kernel_size=window_size)\n",
    "    df_falcon[\"falcon_y_dot\"] = signal.medfilt(df_falcon[\"falcon_y_dot\"],kernel_size=window_size)\n",
    "    df_falcon[\"falcon_z_dot\"] = signal.medfilt(df_falcon[\"falcon_z_dot\"],kernel_size=window_size)\n",
    "    df_imu[\"VelX1\"] = signal.medfilt(df_imu[\"VelX1\"],kernel_size=window_size)\n",
    "    df_imu[\"VelY1\"] = signal.medfilt(df_imu[\"VelY1\"],kernel_size=window_size)\n",
    "    df_imu[\"VelZ1\"] = signal.medfilt(df_imu[\"VelZ1\"],kernel_size=window_size)\n",
    "    df_imu[\"sin(Pitch1)\"] = signal.medfilt(df_imu[\"sin(Pitch1)\"],kernel_size=window_size)\n",
    "    df_imu[\"sin(Yaw1)\"] = signal.medfilt(df_imu[\"sin(Yaw1)\"],kernel_size=window_size)\n",
    "    df_imu[\"sin(Roll1)\"] = signal.medfilt(df_imu[\"sin(Roll1)\"],kernel_size=window_size)\n",
    "    df_imu[\"cos(Pitch1)\"] = signal.medfilt(df_imu[\"cos(Pitch1)\"],kernel_size=window_size)\n",
    "    df_imu[\"cos(Yaw1)\"] = signal.medfilt(df_imu[\"cos(Yaw1)\"],kernel_size=window_size)\n",
    "    df_imu[\"cos(Roll1)\"] = signal.medfilt(df_imu[\"cos(Roll1)\"],kernel_size=window_size)\n",
    "    df_imu[\"RotX1*sin(Pitch1)\"] = signal.medfilt(df_imu[\"RotX1*sin(Pitch1)\"],kernel_size=window_size)\n",
    "    df_imu[\"RotY1*sin(Pitch1)\"] = signal.medfilt(df_imu[\"RotY1*sin(Pitch1)\"],kernel_size=window_size)\n",
    "    df_imu[\"RotZ1*sin(Pitch1)\"] = signal.medfilt(df_imu[\"RotZ1*sin(Pitch1)\"],kernel_size=window_size)\n",
    "    df_imu[\"RotX1*sin(Yaw1)\"] = signal.medfilt(df_imu[\"RotX1*sin(Yaw1)\"],kernel_size=window_size)\n",
    "    df_imu[\"RotY1*sin(Yaw1)\"] = signal.medfilt(df_imu[\"RotY1*sin(Yaw1)\"],kernel_size=window_size)\n",
    "    df_imu[\"RotZ1*sin(Yaw1)\"] = signal.medfilt(df_imu[\"RotZ1*sin(Yaw1)\"],kernel_size=window_size)\n",
    "    df_imu[\"RotX1*sin(Roll1)\"] = signal.medfilt(df_imu[\"RotX1*sin(Roll1)\"],kernel_size=window_size)\n",
    "    df_imu[\"RotY1*sin(Roll1)\"] = signal.medfilt(df_imu[\"RotY1*sin(Roll1)\"],kernel_size=window_size)\n",
    "    df_imu[\"RotZ1*sin(Roll1)\"] = signal.medfilt(df_imu[\"RotZ1*sin(Roll1)\"],kernel_size=window_size)\n",
    "    df_imu[\"RotX1*cos(Pitch1)\"] = signal.medfilt(df_imu[\"RotX1*cos(Pitch1)\"],kernel_size=window_size)\n",
    "    df_imu[\"RotY1*cos(Pitch1)\"] = signal.medfilt(df_imu[\"RotY1*cos(Pitch1)\"],kernel_size=window_size)\n",
    "    df_imu[\"RotZ1*cos(Pitch1)\"] = signal.medfilt(df_imu[\"RotZ1*cos(Pitch1)\"],kernel_size=window_size)\n",
    "    df_imu[\"RotX1*cos(Yaw1)\"] = signal.medfilt(df_imu[\"RotX1*cos(Yaw1)\"],kernel_size=window_size)\n",
    "    df_imu[\"RotY1*cos(Yaw1)\"] = signal.medfilt(df_imu[\"RotY1*cos(Yaw1)\"],kernel_size=window_size)\n",
    "    df_imu[\"RotZ1*cos(Yaw1)\"] = signal.medfilt(df_imu[\"RotZ1*cos(Yaw1)\"],kernel_size=window_size)\n",
    "    df_imu[\"RotX1*cos(Roll1)\"] = signal.medfilt(df_imu[\"RotX1*cos(Roll1)\"],kernel_size=window_size)\n",
    "    df_imu[\"RotY1*cos(Roll1)\"] = signal.medfilt(df_imu[\"RotY1*cos(Roll1)\"],kernel_size=window_size)\n",
    "    df_imu[\"RotZ1*cos(Roll1)\"] = signal.medfilt(df_imu[\"RotZ1*cos(Roll1)\"],kernel_size=window_size)\n",
    "    df_imu[\"arcsin\"] = signal.medfilt(df_imu[\"arcsin\"],kernel_size=window_size)\n",
    "    df_imu[\"arccos\"] = signal.medfilt(df_imu[\"arccos\"],kernel_size=window_size)\n",
    "\n",
    "    # change the time colmns to index to merge time series into a single dataframe\n",
    "    df_angles = df_angles.set_index(['Time'])\n",
    "    df_falcon = df_falcon.set_index(['Time'])\n",
    "    df_imu = df_imu.set_index(['Time'])\n",
    "\n",
    "    # Merge time series into a single dataframe\n",
    "    df_data = pd.merge(df_angles, df_falcon, left_index=True, right_index=True)\n",
    "    df_data = pd.merge(df_data, df_imu, left_index=True, right_index=True)\n",
    "\n",
    "    # Revert index back to numerics\n",
    "    df_data = df_data.reset_index(drop=True)\n",
    "    \n",
    "    # Lag the merged data\n",
    "    df_data = time_embed(df_data, lag)\n",
    "\n",
    "    # remove rows with NaN values\n",
    "    df_data = df_data.dropna()\n",
    "\n",
    "    # Add user ID column\n",
    "    df_data['User'] = user_id\n",
    "\n",
    "    # Append to the list of DataFrames\n",
    "    dfs.append(df_data)\n",
    "\n",
    "# Convert the dataframes into a pandas dataframe\n",
    "oos_features = pd.concat(dfs)\n",
    "\n",
    "# remove irrelevant columns\n",
    "oos_features.drop(list(oos_features.filter(regex='index')), axis=1, inplace=True)\n",
    "oos_features.drop(list(oos_features.filter(regex='Roll_Lag:')), axis=1, inplace=True)\n",
    "oos_features.drop(list(oos_features.filter(regex='Pitch_Lag:')), axis=1, inplace=True)\n",
    "oos_features.drop(list(oos_features.filter(regex='Yaw_Lag:')), axis=1, inplace=True)\n",
    "\n",
    "# Save merged data to a new CSV file\n",
    "oos_features.to_csv('oos_features.csv')\n"
   ]
  },
  {
   "cell_type": "markdown",
   "id": "a4f9089e",
   "metadata": {},
   "source": [
    "#### Apply model on out-of-sample users"
   ]
  },
  {
   "cell_type": "code",
   "execution_count": 9,
   "id": "31735b94",
   "metadata": {
    "scrolled": false
   },
   "outputs": [
    {
     "name": "stdout",
     "output_type": "stream",
     "text": [
      "Testing R-squared: 0.8541549030142215\n",
      "Testing MSE: 34.495609144871686\n"
     ]
    }
   ],
   "source": [
    "# define the input and output of the machine learning algorithm with no autoregressive terms\n",
    "Y = oos_features[[\"Pitch\",\"Yaw\",\"Roll\"]]\n",
    "X = oos_features.drop([\"Pitch\",\"Yaw\",\"Roll\"], axis=1)\n",
    "\n",
    "# get only columns within optimal lag\n",
    "x = X.iloc[:,list(range(0, num_vars*(opt_lag+1)))]\n",
    "\n",
    "# Train linear regression model\n",
    "predictions = model.predict(x)\n",
    "\n",
    "# # Scatter plot predictions vs. actual angles\n",
    "# plt.scatter(Y[[\"Pitch\"]], predictions, edgecolors='k',c='darkorchid',s=50)\n",
    "# plt.plot([-60, 60], [-60, 60], color='black', lw=3)\n",
    "# plt.ylabel('Predicted angle (deg)', fontsize=14, fontname='Times New Roman')\n",
    "# plt.xlabel('Measured angle (deg)', fontsize=14, fontname='Times New Roman')\n",
    "# plt.xticks([-100, -50, 0, 50, 100], fontsize=12, fontname='Times New Roman')\n",
    "# plt.yticks([-100, -50, 0, 50, 100], fontsize=12, fontname='Times New Roman')\n",
    "# plt.ylim([-110, 110])\n",
    "# plt.xlim([-110, 110])\n",
    "# plt.show()\n",
    "\n",
    "\n",
    "# Goodness-of-fit\n",
    "r_squared = r2_score(Y[[\"Pitch\"]], predictions)\n",
    "print(\"Testing R-squared:\", r_squared)\n",
    "mse = mean_squared_error(Y[[\"Pitch\"]], predictions)\n",
    "print(\"Testing MSE:\", mse)\n"
   ]
  },
  {
   "cell_type": "markdown",
   "id": "264e661f",
   "metadata": {},
   "source": [
    "# Quantify feature importance"
   ]
  },
  {
   "cell_type": "code",
   "execution_count": 10,
   "id": "d82b1110",
   "metadata": {
    "scrolled": true
   },
   "outputs": [
    {
     "name": "stderr",
     "output_type": "stream",
     "text": [
      "/var/folders/1z/stpw536n3499tbk7_sg5zch80000gn/T/ipykernel_28163/1251989579.py:24: MatplotlibDeprecationWarning: savefig() got unexpected keyword argument \"tightlayout\" which is no longer supported as of 3.3 and will become an error in 3.6\n",
      "  plt.savefig('results3.pdf', tightlayout=True)\n"
     ]
    },
    {
     "data": {
      "image/png": "[encoded data removed]",
      "text/plain": [
       "<Figure size 432x288 with 1 Axes>"
      ]
     },
     "metadata": {
      "needs_background": "light"
     },
     "output_type": "display_data"
    },
    {
     "name": "stdout",
     "output_type": "stream",
     "text": [
      "0      sin(Roll1)_Lag:6\n",
      "1           VelZ1_Lag:6\n",
      "2     sin(Pitch1)_Lag:6\n",
      "3       cos(Yaw1)_Lag:4\n",
      "4       cos(Yaw1)_Lag:6\n",
      "5            sin(Roll1)\n",
      "6           cos(Pitch1)\n",
      "7           sin(Pitch1)\n",
      "8                 VelY1\n",
      "9           VelY1_Lag:6\n",
      "10    cos(Pitch1)_Lag:6\n",
      "11                VelX1\n",
      "12           cos(Roll1)\n",
      "13     cos(Roll1)_Lag:6\n",
      "14                VelZ1\n",
      "15      sin(Yaw1)_Lag:3\n",
      "16    sin(Pitch1)_Lag:5\n",
      "17      cos(Yaw1)_Lag:5\n",
      "18    sin(Pitch1)_Lag:2\n",
      "19    sin(Pitch1)_Lag:1\n",
      "20          VelZ1_Lag:4\n",
      "21          VelZ1_Lag:3\n",
      "22     cos(Roll1)_Lag:1\n",
      "23      sin(Yaw1)_Lag:2\n",
      "24          VelX1_Lag:6\n",
      "25          AccX1_Lag:6\n",
      "26          VelZ1_Lag:1\n",
      "27     sin(Roll1)_Lag:5\n",
      "28    cos(Pitch1)_Lag:5\n",
      "29     sin(Roll1)_Lag:1\n",
      "30     sin(Roll1)_Lag:2\n",
      "31     cos(Roll1)_Lag:4\n",
      "32          VelY1_Lag:2\n",
      "33          VelZ1_Lag:2\n",
      "34    cos(Pitch1)_Lag:1\n",
      "35    sin(Pitch1)_Lag:4\n",
      "36                AccY1\n",
      "37     sin(Roll1)_Lag:3\n",
      "38          VelZ1_Lag:5\n",
      "39            cos(Yaw1)\n",
      "40          VelY1_Lag:1\n",
      "41     sin(Roll1)_Lag:4\n",
      "42      sin(Yaw1)_Lag:5\n",
      "43      cos(Yaw1)_Lag:2\n",
      "44      sin(Yaw1)_Lag:1\n",
      "45    cos(Pitch1)_Lag:4\n",
      "46     cos(Roll1)_Lag:5\n",
      "47          VelX1_Lag:4\n",
      "48          AccX1_Lag:5\n",
      "49            sin(Yaw1)\n",
      "50    cos(Pitch1)_Lag:3\n",
      "Name: Feature, dtype: object\n"
     ]
    }
   ],
   "source": [
    "# Get feature names\n",
    "feature_names = X.iloc[:,list(range(0, num_vars*(opt_lag+1)))].columns\n",
    "\n",
    "# Get coefficients\n",
    "coefficients = model.coef_[0,:]\n",
    "\n",
    "# Create a dataframe for feature importance\n",
    "feature_importance = pd.DataFrame({'Feature': feature_names, 'Importance': coefficients})\n",
    "\n",
    "# Sort by absolute importance\n",
    "feature_importance['Abs Importance'] = feature_importance['Importance'].abs()\n",
    "feature_importance = feature_importance.sort_values('Abs Importance', ascending=False).reset_index()\n",
    "\n",
    "# Display feature importance\n",
    "x = np.arange(np.shape(feature_importance['Abs Importance'])[0])\n",
    "y = feature_importance['Abs Importance']\n",
    "plt.plot(x, y, 'o',markersize=8,markerfacecolor='forestgreen',markeredgecolor='black')\n",
    "plt.ylabel('Feature importance', fontsize=14, fontname='Times New Roman')\n",
    "plt.xlabel('Feature rank', fontsize=14, fontname='Times New Roman')\n",
    "plt.xticks([0, 50, 100, 150, 200, 250, 300], fontsize=12, fontname='Times New Roman')\n",
    "plt.yticks([0, 25, 50, 75, 100, 125, 150, 175], fontsize=12, fontname='Times New Roman')\n",
    "plt.xlim([-10,320])\n",
    "plt.ylim([-10,180])\n",
    "plt.savefig('results3.pdf', tightlayout=True)\n",
    "plt.show()\n",
    "\n",
    "# Identify the most important features\n",
    "contrib_to_importance = np.cumsum(feature_importance[\"Abs Importance\"]/np.sum(feature_importance[\"Abs Importance\"]))\n",
    "fraction_contribution = 0.85\n",
    "num_features = np.where(np.abs(contrib_to_importance-fraction_contribution)==np.min(np.abs(contrib_to_importance-fraction_contribution)))[0][0]\n",
    "print(feature_importance[0:num_features][\"Feature\"])\n"
   ]
  },
  {
   "cell_type": "markdown",
   "id": "fcf1088b",
   "metadata": {},
   "source": [
    "# Show kinematic model parameters improve prediction"
   ]
  },
  {
   "cell_type": "code",
   "execution_count": 11,
   "id": "4e73aff6",
   "metadata": {
    "scrolled": true
   },
   "outputs": [
    {
     "name": "stderr",
     "output_type": "stream",
     "text": [
      "/var/folders/1z/stpw536n3499tbk7_sg5zch80000gn/T/ipykernel_28163/3184198027.py:33: MatplotlibDeprecationWarning: savefig() got unexpected keyword argument \"tightlayout\" which is no longer supported as of 3.3 and will become an error in 3.6\n",
      "  plt.savefig('supp1.pdf', tightlayout=True)\n"
     ]
    },
    {
     "data": {
      "image/png": "[encoded data removed]",
      "text/plain": [
       "<Figure size 432x288 with 1 Axes>"
      ]
     },
     "metadata": {
      "needs_background": "light"
     },
     "output_type": "display_data"
    },
    {
     "name": "stdout",
     "output_type": "stream",
     "text": [
      "Testing R-squared: 0.8293372932119537\n",
      "Testing MSE: 35.767592331319264\n",
      "Training R-squared: 0.9091884796901998\n",
      "Training MSE: 24.003069581289182\n"
     ]
    },
    {
     "name": "stderr",
     "output_type": "stream",
     "text": [
      "/var/folders/1z/stpw536n3499tbk7_sg5zch80000gn/T/ipykernel_28163/3184198027.py:74: MatplotlibDeprecationWarning: savefig() got unexpected keyword argument \"tightlayout\" which is no longer supported as of 3.3 and will become an error in 3.6\n",
      "  plt.savefig('supp2.pdf', tightlayout=True)\n"
     ]
    },
    {
     "data": {
      "image/png": "[encoded data removed]",
      "text/plain": [
       "<Figure size 432x288 with 1 Axes>"
      ]
     },
     "metadata": {
      "needs_background": "light"
     },
     "output_type": "display_data"
    },
    {
     "name": "stdout",
     "output_type": "stream",
     "text": [
      "0           VelY1\n",
      "1     VelZ1_Lag:6\n",
      "2           VelZ1\n",
      "3     VelZ1_Lag:4\n",
      "4     AccX1_Lag:6\n",
      "5     VelZ1_Lag:3\n",
      "6     VelZ1_Lag:5\n",
      "7           AccX1\n",
      "8     AccX1_Lag:5\n",
      "9     AccX1_Lag:1\n",
      "10    AccX1_Lag:4\n",
      "11    AccX1_Lag:3\n",
      "12          VelX1\n",
      "13    AccX1_Lag:2\n",
      "14    VelY1_Lag:6\n",
      "15    VelZ1_Lag:1\n",
      "16    VelY1_Lag:3\n",
      "17    VelY1_Lag:2\n",
      "18    VelZ1_Lag:2\n",
      "19          AccY1\n",
      "20    VelY1_Lag:1\n",
      "21    VelX1_Lag:2\n",
      "22    VelX1_Lag:6\n",
      "Name: Feature, dtype: object\n"
     ]
    }
   ],
   "source": [
    "# define the input and output of the machine learning algorithm with no autoregressive terms\n",
    "Y = features[[\"Pitch\",\"Yaw\",\"Roll\"]]\n",
    "X = features.drop([\"Pitch\",\"Yaw\",\"Roll\"], axis=1)\n",
    "\n",
    "# get only relevant\n",
    "x = X.iloc[:,list(range(0, num_vars*(opt_lag+1)))] # columsn up to optimal lag\n",
    "x.drop(list(x.filter(regex='sin')), axis=1, inplace=True) # columns that do not contain \"sin\" in their title\n",
    "x.drop(list(x.filter(regex='cos')), axis=1, inplace=True) # columns that do not contain \"cos\" in their title\n",
    "\n",
    "# define training and validation data sets\n",
    "X_train = pd.DataFrame(columns=x.keys())\n",
    "X_test = pd.DataFrame(columns=x.keys())\n",
    "Y_train = pd.DataFrame(columns=[\"Pitch\",\"Yaw\",\"Roll\"])\n",
    "Y_test = pd.DataFrame(columns=[\"Pitch\",\"Yaw\",\"Roll\"])\n",
    "for id in np.unique(features[\"User\"]):\n",
    "    X_train = pd.concat([X_train, x[features[\"User\"]==id][:round(K*len(features[features[\"User\"]==id]))]])\n",
    "    X_test = pd.concat([X_test, x[features[\"User\"]==id][round(K*len(features[features[\"User\"]==id])):]])\n",
    "    Y_train = pd.concat([Y_train, Y[features[\"User\"]==id][:round(K*len(features[features[\"User\"]==id]))]])\n",
    "    Y_test = pd.concat([Y_test, Y[features[\"User\"]==id][round(K*len(features[features[\"User\"]==id])):]])\n",
    "\n",
    "# Train linear regression model\n",
    "model = LinearRegression()\n",
    "model.fit(X_train, Y_train[[\"Pitch\"]])\n",
    "predictions = model.predict(X_test)\n",
    "\n",
    "# Scatter plot predictions vs. actual angles\n",
    "plt.scatter(Y_test[[\"Pitch\"]], predictions, edgecolors='k',c='goldenrod',s=50)\n",
    "plt.plot([-60, 60], [-60, 60], color='black', lw=3)\n",
    "plt.ylabel('Predicted angle (deg)', fontsize=14, fontname='Times New Roman')\n",
    "plt.xlabel('Measured angle (deg)', fontsize=14, fontname='Times New Roman')\n",
    "plt.xticks([-100, -50, 0, 50, 100], fontsize=12, fontname='Times New Roman')\n",
    "plt.yticks([-100, -50, 0, 50, 100], fontsize=12, fontname='Times New Roman')\n",
    "plt.savefig('supp1.pdf', tightlayout=True)\n",
    "plt.show()\n",
    "\n",
    "\n",
    "# Goodness-of-fit in cross-validation\n",
    "r_squared = r2_score(Y_test[[\"Pitch\"]], predictions)\n",
    "print(\"Testing R-squared:\", r_squared)\n",
    "mse = mean_squared_error(Y_test[[\"Pitch\"]], predictions)\n",
    "print(\"Testing MSE:\", mse)\n",
    "\n",
    "# Goodness-of-fit in training\n",
    "predictions = model.predict(X_train)\n",
    "r_squared = r2_score(Y_train[[\"Pitch\"]], predictions) # Compute R-squared\n",
    "print(\"Training R-squared:\", r_squared)\n",
    "mse = mean_squared_error(Y_train[[\"Pitch\"]], predictions) # Compute MSE\n",
    "print(\"Training MSE:\", mse)\n",
    "\n",
    "\n",
    "# Get feature names\n",
    "feature_names = x.columns\n",
    "\n",
    "# Get coefficients\n",
    "coefficients = model.coef_[0,:]\n",
    "\n",
    "# Create a dataframe for feature importance\n",
    "feature_importance = pd.DataFrame({'Feature': feature_names, 'Importance': coefficients})\n",
    "\n",
    "# Sort by absolute importance\n",
    "feature_importance['Abs Importance'] = feature_importance['Importance'].abs()\n",
    "feature_importance = feature_importance.sort_values('Abs Importance', ascending=False).reset_index()\n",
    "\n",
    "# Display feature importance\n",
    "x = np.arange(np.shape(feature_importance['Abs Importance'])[0])\n",
    "y = feature_importance['Abs Importance']\n",
    "plt.plot(x, y, 'o',markersize=8,markerfacecolor='tomato',markeredgecolor='black')\n",
    "plt.ylabel('Feature importance', fontsize=14, fontname='Times New Roman')\n",
    "plt.xlabel('Feature rank', fontsize=14, fontname='Times New Roman')\n",
    "plt.xticks([0, 25, 50, 75, 100, 125, 150, 175], fontsize=12, fontname='Times New Roman')\n",
    "plt.yticks([0, 25, 50, 75, 100, 125], fontsize=12, fontname='Times New Roman')\n",
    "plt.ylim([-10,130])\n",
    "plt.xlim([-10,135])\n",
    "plt.savefig('supp2.pdf', tightlayout=True)\n",
    "plt.show()\n",
    "\n",
    "# Identify the most important features\n",
    "contrib_to_importance = np.cumsum(feature_importance[\"Abs Importance\"]/np.sum(feature_importance[\"Abs Importance\"]))\n",
    "fraction_contribution = 0.85\n",
    "num_features = np.where(np.abs(contrib_to_importance-fraction_contribution)==np.min(np.abs(contrib_to_importance-fraction_contribution)))[0][0]\n",
    "print(feature_importance[0:num_features][\"Feature\"])\n",
    "\n"
   ]
  }
 ],
 "metadata": {
  "kernelspec": {
   "display_name": "Python 3 (ipykernel)",
   "language": "python",
   "name": "python3"
  },
  "language_info": {
   "codemirror_mode": {
    "name": "ipython",
    "version": 3
   },
   "file_extension": ".py",
   "mimetype": "text/x-python",
   "name": "python",
   "nbconvert_exporter": "python",
   "pygments_lexer": "ipython3",
   "version": "3.9.12"
  }
 },
 "nbformat": 4,
 "nbformat_minor": 5
}
